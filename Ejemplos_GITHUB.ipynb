{
  "cells": [
    {
      "cell_type": "markdown",
      "metadata": {
        "id": "view-in-github",
        "colab_type": "text"
      },
      "source": [
        "<a href=\"https://colab.research.google.com/github/AMateoSernaG/AP0053-20243/blob/main/Ejemplos_GITHUB.ipynb\" target=\"_parent\"><img src=\"https://colab.research.google.com/assets/colab-badge.svg\" alt=\"Open In Colab\"/></a>"
      ]
    },
    {
      "cell_type": "markdown",
      "source": [
        "# Ejemplos GITHUB\n"
      ],
      "metadata": {
        "id": "qCQuovs_LkHG"
      }
    },
    {
      "cell_type": "code",
      "source": [
        "for i in range(100, 301):\n",
        "    if (i%12) != 0:\n",
        "        continue\n",
        "    print(i)"
      ],
      "metadata": {
        "id": "3LF2N6JmLmkk",
        "outputId": "5aa8f662-3311-4a2e-cf4c-605a378be6b9",
        "colab": {
          "base_uri": "https://localhost:8080/"
        }
      },
      "execution_count": null,
      "outputs": [
        {
          "output_type": "stream",
          "name": "stdout",
          "text": [
            "108\n",
            "120\n",
            "132\n",
            "144\n",
            "156\n",
            "168\n",
            "180\n",
            "192\n",
            "204\n",
            "216\n",
            "228\n",
            "240\n",
            "252\n",
            "264\n",
            "276\n",
            "288\n",
            "300\n"
          ]
        }
      ]
    },
    {
      "cell_type": "code",
      "source": [
        "while True:\n",
        "\n",
        "    value = int(input(\"Enter a positive integer value: \"))\n",
        "    print(\"Value: \", value)\n",
        "    a = isinstance(value, int)\n",
        "    if a == True and value > 0:\n",
        "        fact = 1\n",
        "        for i in range (1, value + 1):\n",
        "            fact = fact*i\n",
        "        print(f'The factorial of {value} is: ', fact)\n",
        "    else:\n",
        "        print(\"Please, enter a positive integer number\")"
      ],
      "metadata": {
        "id": "EFL1EIUJLs-j",
        "outputId": "04cf4b97-37ac-48ae-e318-0d84fc266c9f",
        "colab": {
          "base_uri": "https://localhost:8080/",
          "height": 408
        }
      },
      "execution_count": null,
      "outputs": [
        {
          "output_type": "stream",
          "name": "stdout",
          "text": [
            "Enter a positive integer value: 2\n",
            "Value:  2\n",
            "The factorial of 2 is:  2\n"
          ]
        },
        {
          "output_type": "error",
          "ename": "KeyboardInterrupt",
          "evalue": "Interrupted by user",
          "traceback": [
            "\u001b[0;31m---------------------------------------------------------------------------\u001b[0m",
            "\u001b[0;31mKeyboardInterrupt\u001b[0m                         Traceback (most recent call last)",
            "\u001b[0;32m<ipython-input-3-6a6a207dc6ca>\u001b[0m in \u001b[0;36m<cell line: 1>\u001b[0;34m()\u001b[0m\n\u001b[1;32m      1\u001b[0m \u001b[0;32mwhile\u001b[0m \u001b[0;32mTrue\u001b[0m\u001b[0;34m:\u001b[0m\u001b[0;34m\u001b[0m\u001b[0;34m\u001b[0m\u001b[0m\n\u001b[1;32m      2\u001b[0m \u001b[0;34m\u001b[0m\u001b[0m\n\u001b[0;32m----> 3\u001b[0;31m     \u001b[0mvalue\u001b[0m \u001b[0;34m=\u001b[0m \u001b[0mint\u001b[0m\u001b[0;34m(\u001b[0m\u001b[0minput\u001b[0m\u001b[0;34m(\u001b[0m\u001b[0;34m\"Enter a positive integer value: \"\u001b[0m\u001b[0;34m)\u001b[0m\u001b[0;34m)\u001b[0m\u001b[0;34m\u001b[0m\u001b[0;34m\u001b[0m\u001b[0m\n\u001b[0m\u001b[1;32m      4\u001b[0m     \u001b[0mprint\u001b[0m\u001b[0;34m(\u001b[0m\u001b[0;34m\"Value: \"\u001b[0m\u001b[0;34m,\u001b[0m \u001b[0mvalue\u001b[0m\u001b[0;34m)\u001b[0m\u001b[0;34m\u001b[0m\u001b[0;34m\u001b[0m\u001b[0m\n\u001b[1;32m      5\u001b[0m     \u001b[0ma\u001b[0m \u001b[0;34m=\u001b[0m \u001b[0misinstance\u001b[0m\u001b[0;34m(\u001b[0m\u001b[0mvalue\u001b[0m\u001b[0;34m,\u001b[0m \u001b[0mint\u001b[0m\u001b[0;34m)\u001b[0m\u001b[0;34m\u001b[0m\u001b[0;34m\u001b[0m\u001b[0m\n",
            "\u001b[0;32m/usr/local/lib/python3.10/dist-packages/ipykernel/kernelbase.py\u001b[0m in \u001b[0;36mraw_input\u001b[0;34m(self, prompt)\u001b[0m\n\u001b[1;32m    849\u001b[0m                 \u001b[0;34m\"raw_input was called, but this frontend does not support input requests.\"\u001b[0m\u001b[0;34m\u001b[0m\u001b[0;34m\u001b[0m\u001b[0m\n\u001b[1;32m    850\u001b[0m             )\n\u001b[0;32m--> 851\u001b[0;31m         return self._input_request(str(prompt),\n\u001b[0m\u001b[1;32m    852\u001b[0m             \u001b[0mself\u001b[0m\u001b[0;34m.\u001b[0m\u001b[0m_parent_ident\u001b[0m\u001b[0;34m,\u001b[0m\u001b[0;34m\u001b[0m\u001b[0;34m\u001b[0m\u001b[0m\n\u001b[1;32m    853\u001b[0m             \u001b[0mself\u001b[0m\u001b[0;34m.\u001b[0m\u001b[0m_parent_header\u001b[0m\u001b[0;34m,\u001b[0m\u001b[0;34m\u001b[0m\u001b[0;34m\u001b[0m\u001b[0m\n",
            "\u001b[0;32m/usr/local/lib/python3.10/dist-packages/ipykernel/kernelbase.py\u001b[0m in \u001b[0;36m_input_request\u001b[0;34m(self, prompt, ident, parent, password)\u001b[0m\n\u001b[1;32m    893\u001b[0m             \u001b[0;32mexcept\u001b[0m \u001b[0mKeyboardInterrupt\u001b[0m\u001b[0;34m:\u001b[0m\u001b[0;34m\u001b[0m\u001b[0;34m\u001b[0m\u001b[0m\n\u001b[1;32m    894\u001b[0m                 \u001b[0;31m# re-raise KeyboardInterrupt, to truncate traceback\u001b[0m\u001b[0;34m\u001b[0m\u001b[0;34m\u001b[0m\u001b[0m\n\u001b[0;32m--> 895\u001b[0;31m                 \u001b[0;32mraise\u001b[0m \u001b[0mKeyboardInterrupt\u001b[0m\u001b[0;34m(\u001b[0m\u001b[0;34m\"Interrupted by user\"\u001b[0m\u001b[0;34m)\u001b[0m \u001b[0;32mfrom\u001b[0m \u001b[0;32mNone\u001b[0m\u001b[0;34m\u001b[0m\u001b[0;34m\u001b[0m\u001b[0m\n\u001b[0m\u001b[1;32m    896\u001b[0m             \u001b[0;32mexcept\u001b[0m \u001b[0mException\u001b[0m \u001b[0;32mas\u001b[0m \u001b[0me\u001b[0m\u001b[0;34m:\u001b[0m\u001b[0;34m\u001b[0m\u001b[0;34m\u001b[0m\u001b[0m\n\u001b[1;32m    897\u001b[0m                 \u001b[0mself\u001b[0m\u001b[0;34m.\u001b[0m\u001b[0mlog\u001b[0m\u001b[0;34m.\u001b[0m\u001b[0mwarning\u001b[0m\u001b[0;34m(\u001b[0m\u001b[0;34m\"Invalid Message:\"\u001b[0m\u001b[0;34m,\u001b[0m \u001b[0mexc_info\u001b[0m\u001b[0;34m=\u001b[0m\u001b[0;32mTrue\u001b[0m\u001b[0;34m)\u001b[0m\u001b[0;34m\u001b[0m\u001b[0;34m\u001b[0m\u001b[0m\n",
            "\u001b[0;31mKeyboardInterrupt\u001b[0m: Interrupted by user"
          ]
        }
      ]
    },
    {
      "cell_type": "code",
      "source": [
        "a = input(\"Enter a number: \")\n",
        "a = int(a)\n",
        "b = input(\"Enter b number: \")\n",
        "b = float(b)\n",
        "c = a + b\n",
        "\n",
        "if a == b:\n",
        "    print(\"equal\")\n",
        "else:\n",
        "    print(\"Different\")\n",
        "\n",
        "print(\"Type of a is: \", type(a))\n",
        "print(\"Type of b is: \", type(b))\n",
        "print(\"c = \", c)\n",
        "\n",
        "if type(a) == type(b):\n",
        "    print(\"a and b are of the same type\")\n",
        "else:\n",
        "    print(\"a and b are of different type\")"
      ],
      "metadata": {
        "id": "kVHPsj93L96m",
        "outputId": "4b85cb0c-ca22-4e42-87a9-ccae0b2ab0cb",
        "colab": {
          "base_uri": "https://localhost:8080/"
        }
      },
      "execution_count": null,
      "outputs": [
        {
          "output_type": "stream",
          "name": "stdout",
          "text": [
            "Enter a number: 4\n",
            "Enter b number: 3.2\n",
            "Different\n",
            "Type of a is:  <class 'int'>\n",
            "Type of b is:  <class 'float'>\n",
            "c =  7.2\n",
            "a and b are of different type\n"
          ]
        }
      ]
    },
    {
      "cell_type": "code",
      "source": [
        "# for i in range (1,21):\n",
        "#     residual = i%2\n",
        "#     if residual == 0:\n",
        "#         print(f'{i} is even')\n",
        "#     else:\n",
        "#         #print(f'{i} is odd')\n",
        "#         print(str(i) + ' is odd')\n",
        "\n",
        "# for i in range (0,6):\n",
        "#     result = i**3\n",
        "#     print(result)\n",
        "\n",
        "times = input(\"Enter a number of times: \")\n",
        "times = float(times)\n",
        "times = int(times)\n",
        "print(type(times))\n",
        "print(times)\n",
        "\n",
        "if times == 0:\n",
        "    print(\"Don't do anything\")\n",
        "else:\n",
        "    for i in range(1,times+1):\n",
        "        print(\"i = \", i)"
      ],
      "metadata": {
        "id": "VxXWGraAMgBQ",
        "outputId": "94c379a2-1247-4990-c274-a4c49ee596f7",
        "colab": {
          "base_uri": "https://localhost:8080/"
        }
      },
      "execution_count": null,
      "outputs": [
        {
          "output_type": "stream",
          "name": "stdout",
          "text": [
            "Enter a number of times: 5\n",
            "<class 'int'>\n",
            "5\n",
            "i =  1\n",
            "i =  2\n",
            "i =  3\n",
            "i =  4\n",
            "i =  5\n"
          ]
        }
      ]
    },
    {
      "cell_type": "code",
      "source": [
        "import time\n",
        "\n",
        "cadena = 'Python'\n",
        "\n",
        "for letra in cadena:\n",
        "   if letra == 't':\n",
        "      continue\n",
        "   print(letra)\n",
        "   time.sleep(1)\n"
      ],
      "metadata": {
        "id": "7G4g20rLNBFU",
        "outputId": "f4e265f4-833f-41c7-bd3b-8b021c73e0f8",
        "colab": {
          "base_uri": "https://localhost:8080/"
        }
      },
      "execution_count": null,
      "outputs": [
        {
          "output_type": "stream",
          "name": "stdout",
          "text": [
            "P\n",
            "y\n",
            "h\n",
            "o\n",
            "n\n"
          ]
        }
      ]
    },
    {
      "cell_type": "code",
      "source": [
        "import random\n",
        "from matplotlib import pyplot as plt\n",
        "\n",
        "# Add your code below:\n",
        "numbers_a = range(1, 13)\n",
        "numbers_b = [random.randint(1, 1000) for i in range(12)]\n",
        "plt.plot(numbers_a, numbers_b)\n",
        "plt.show()"
      ],
      "metadata": {
        "id": "JHLwgkWTNY0F",
        "outputId": "639930ce-a2c3-4fbe-ab99-0c53cd461790",
        "colab": {
          "base_uri": "https://localhost:8080/",
          "height": 430
        }
      },
      "execution_count": null,
      "outputs": [
        {
          "output_type": "display_data",
          "data": {
            "text/plain": [
              "<Figure size 640x480 with 1 Axes>"
            ],
            "image/png": "[encoded data removed]"
          },
          "metadata": {}
        }
      ]
    },
    {
      "cell_type": "code",
      "source": [
        "import time\n",
        "inicio = time.time()\n",
        "\n",
        "for i in range(0,31):\n",
        "    conta = 0\n",
        "    for n in range(1, i+1):\n",
        "        residue = i%n\n",
        "        if residue == 0:\n",
        "            conta = conta + 1\n",
        "\n",
        "    if conta == 2:\n",
        "        print(f'{i} es un primo')\n",
        "\n",
        "fin = time.time()\n",
        "print(\"t = \", (fin - inicio)*1000)"
      ],
      "metadata": {
        "id": "krZ466J3Np90",
        "outputId": "f4e55b8f-bf03-49b4-d3ce-eb7c0cab5ecc",
        "colab": {
          "base_uri": "https://localhost:8080/"
        }
      },
      "execution_count": null,
      "outputs": [
        {
          "output_type": "stream",
          "name": "stdout",
          "text": [
            "2 es un primo\n",
            "3 es un primo\n",
            "5 es un primo\n",
            "7 es un primo\n",
            "11 es un primo\n",
            "13 es un primo\n",
            "17 es un primo\n",
            "19 es un primo\n",
            "23 es un primo\n",
            "29 es un primo\n",
            "31 es un primo\n",
            "37 es un primo\n",
            "41 es un primo\n",
            "43 es un primo\n",
            "t =  5.031824111938477\n"
          ]
        }
      ]
    },
    {
      "cell_type": "code",
      "source": [
        "import time\n",
        "inicio = time.time()\n",
        "\n",
        "for i in range(1,31):\n",
        "    conta = 0\n",
        "    for n in range(1, i+1):\n",
        "        residue = i%n\n",
        "        if residue == 0:\n",
        "            conta = conta + 1\n",
        "    if conta == 2:\n",
        "        print(f'{i} es un primo')\n",
        "        print(\"\\n\")\n",
        "\n",
        "fin = time.time()\n",
        "print(\"t = \", (fin - inicio)*1000)"
      ],
      "metadata": {
        "id": "Xmj2KNMNOtME",
        "outputId": "799b37bf-c662-4a05-a491-5355bcc168f5",
        "colab": {
          "base_uri": "https://localhost:8080/"
        }
      },
      "execution_count": null,
      "outputs": [
        {
          "output_type": "stream",
          "name": "stdout",
          "text": [
            "2 es un primo\n",
            "\n",
            "\n",
            "3 es un primo\n",
            "\n",
            "\n",
            "5 es un primo\n",
            "\n",
            "\n",
            "7 es un primo\n",
            "\n",
            "\n",
            "11 es un primo\n",
            "\n",
            "\n",
            "13 es un primo\n",
            "\n",
            "\n",
            "17 es un primo\n",
            "\n",
            "\n",
            "19 es un primo\n",
            "\n",
            "\n",
            "23 es un primo\n",
            "\n",
            "\n",
            "29 es un primo\n",
            "\n",
            "\n",
            "t =  2.656221389770508\n"
          ]
        }
      ]
    },
    {
      "cell_type": "code",
      "source": [
        "a = 1\n",
        "value = input('Ingrese un valor')\n",
        "value = int(value)\n",
        "\n",
        "while a == 1:\n",
        "    for i in range(1,value+1):\n",
        "        conta = 0\n",
        "        for n in range(1, i+1):\n",
        "            residue = i%n\n",
        "            if residue == 0:\n",
        "                conta = conta + 1\n",
        "\n",
        "            # print(\"i = \", i)\n",
        "            # print(\"n = \", n)\n",
        "            # print(\"residue = \", residue)\n",
        "            # print(\"conta = \", conta)\n",
        "    if conta == 2:\n",
        "       print(f'{i} es un primo')\n",
        "       print(\"\\n\")\n",
        "    else:\n",
        "       print(f'{i} NOOO es un primo')\n",
        "       print(\"\\n\")\n",
        "\n",
        "    print('Do you want to continue?. Press 1 to do that')\n",
        "    a = input()\n",
        "    a = int(a)\n",
        "\n",
        "    if a != 1:\n",
        "        break\n",
        "\n",
        "    value = input('Ingrese un valor')\n",
        "    value = int(value)"
      ],
      "metadata": {
        "id": "hSo0GVhNO0gd",
        "outputId": "8fbad34e-6f13-42b9-986a-e22227d53cac",
        "colab": {
          "base_uri": "https://localhost:8080/"
        }
      },
      "execution_count": null,
      "outputs": [
        {
          "name": "stdout",
          "output_type": "stream",
          "text": [
            "Ingrese un valor5\n",
            "5 es un primo\n",
            "\n",
            "\n",
            "Do you want to continue?. Press 1 to do that\n",
            "1\n",
            "Ingrese un valor6\n",
            "6 NOOO es un primo\n",
            "\n",
            "\n",
            "Do you want to continue?. Press 1 to do that\n",
            "2\n"
          ]
        }
      ]
    },
    {
      "cell_type": "code",
      "source": [
        "# 9) Imprimir los números primos existentes entre 0 y 30\n",
        "tope_rango=30\n",
        "n = 0\n",
        "primo = True\n",
        "while (n < tope_rango):\n",
        "    for div in range(2, n):\n",
        "        if (n % div == 0):\n",
        "            primo = False\n",
        "    if (primo):\n",
        "        print(n)\n",
        "    else:\n",
        "        primo = True\n",
        "    n += 1\n",
        "\n",
        "\n",
        "# 10) ¿Se puede mejorar el proceso del punto 9? Utilizar las sentencias break y/ó continue para tal fin\n",
        "n = 0\n",
        "primo = True\n",
        "while (n < tope_rango):\n",
        "    for div in range(2, n):\n",
        "        if (n % div == 0):\n",
        "            primo = False\n",
        "            break\n",
        "    if (primo):\n",
        "        print(n)\n",
        "    else:\n",
        "        primo = True\n",
        "    n += 1\n",
        "\n",
        "# 11) En los puntos 9 y 10, se diseño un código que encuentra números primos y además se lo optimizó. ¿Es posible saber en qué medida se optimizó?\n",
        "ciclos_sin_break = 0\n",
        "n = 0\n",
        "primo = True\n",
        "while (n < tope_rango):\n",
        "    for div in range(2, n):\n",
        "        ciclos_sin_break += 1\n",
        "        if (n % div == 0):\n",
        "            primo = False\n",
        "    if (primo):\n",
        "        print(n)\n",
        "    else:\n",
        "        primo = True\n",
        "    n += 1\n",
        "print('Cantidad de ciclos: ' + str(ciclos_sin_break))\n",
        "\n",
        "\n",
        "ciclos_con_break = 0\n",
        "n = 0\n",
        "primo = True\n",
        "while (n < tope_rango):\n",
        "    for div in range(2, n):\n",
        "        ciclos_con_break += 1\n",
        "        if (n % div == 0):\n",
        "            primo = False\n",
        "            break\n",
        "    if (primo):\n",
        "        print(n)\n",
        "    else:\n",
        "        primo = True\n",
        "    n += 1\n",
        "print('Cantidad de ciclos: ' + str(ciclos_con_break))\n",
        "print('Se optimizó a un ' + str(ciclos_con_break/ciclos_sin_break) + '% de ciclos aplicando break')\n",
        "\n",
        "# 12) Si la cantidad de números que se evalúa es mayor a treinta, esa optimización crece?\n",
        "tope_rango=100\n",
        "ciclos_sin_break = 0\n",
        "n = 0\n",
        "primo = True\n",
        "while (n < tope_rango):\n",
        "    for div in range(2, n):\n",
        "        ciclos_sin_break += 1\n",
        "        if (n % div == 0):\n",
        "            primo = False\n",
        "    if (primo):\n",
        "        print(n)\n",
        "    else:\n",
        "        primo = True\n",
        "    n += 1\n",
        "print('Cantidad de ciclos: ' + str(ciclos_sin_break))\n",
        "\n",
        "ciclos_con_break = 0\n",
        "n = 0\n",
        "primo = True\n",
        "while (n < tope_rango):\n",
        "    for div in range(2, n):\n",
        "        ciclos_con_break += 1\n",
        "        if (n % div == 0):\n",
        "            primo = False\n",
        "            break\n",
        "    if (primo):\n",
        "        print(n)\n",
        "    else:\n",
        "        primo = True\n",
        "    n += 1\n",
        "print('Cantidad de ciclos: ' + str(ciclos_con_break))\n",
        "print('Se optimizó a un ' + str(ciclos_con_break/ciclos_sin_break) + '% de ciclos aplicando break')"
      ],
      "metadata": {
        "id": "4ZJWElZuPbUM",
        "outputId": "fe94341b-35f6-4d95-8777-29a17d1d7492",
        "colab": {
          "base_uri": "https://localhost:8080/"
        }
      },
      "execution_count": null,
      "outputs": [
        {
          "output_type": "stream",
          "name": "stdout",
          "text": [
            "0\n",
            "1\n",
            "2\n",
            "3\n",
            "5\n",
            "7\n",
            "11\n",
            "13\n",
            "17\n",
            "19\n",
            "23\n",
            "29\n",
            "0\n",
            "1\n",
            "2\n",
            "3\n",
            "5\n",
            "7\n",
            "11\n",
            "13\n",
            "17\n",
            "19\n",
            "23\n",
            "29\n",
            "0\n",
            "1\n",
            "2\n",
            "3\n",
            "5\n",
            "7\n",
            "11\n",
            "13\n",
            "17\n",
            "19\n",
            "23\n",
            "29\n",
            "Cantidad de ciclos: 378\n",
            "0\n",
            "1\n",
            "2\n",
            "3\n",
            "5\n",
            "7\n",
            "11\n",
            "13\n",
            "17\n",
            "19\n",
            "23\n",
            "29\n",
            "Cantidad de ciclos: 134\n",
            "Se optimizó a un 0.3544973544973545% de ciclos aplicando break\n",
            "0\n",
            "1\n",
            "2\n",
            "3\n",
            "5\n",
            "7\n",
            "11\n",
            "13\n",
            "17\n",
            "19\n",
            "23\n",
            "29\n",
            "31\n",
            "37\n",
            "41\n",
            "43\n",
            "47\n",
            "53\n",
            "59\n",
            "61\n",
            "67\n",
            "71\n",
            "73\n",
            "79\n",
            "83\n",
            "89\n",
            "97\n",
            "Cantidad de ciclos: 4753\n",
            "0\n",
            "1\n",
            "2\n",
            "3\n",
            "5\n",
            "7\n",
            "11\n",
            "13\n",
            "17\n",
            "19\n",
            "23\n",
            "29\n",
            "31\n",
            "37\n",
            "41\n",
            "43\n",
            "47\n",
            "53\n",
            "59\n",
            "61\n",
            "67\n",
            "71\n",
            "73\n",
            "79\n",
            "83\n",
            "89\n",
            "97\n",
            "Cantidad de ciclos: 1132\n",
            "Se optimizó a un 0.2381653692404797% de ciclos aplicando break\n"
          ]
        }
      ]
    },
    {
      "cell_type": "code",
      "source": [
        "my_cool_variable = 7 + 8 == 11\n",
        "print(my_cool_variable)"
      ],
      "metadata": {
        "id": "BAF9zM9mQdmd",
        "outputId": "57c90528-14ad-4fe1-d7d8-e8199343cd50",
        "colab": {
          "base_uri": "https://localhost:8080/"
        }
      },
      "execution_count": null,
      "outputs": [
        {
          "output_type": "stream",
          "name": "stdout",
          "text": [
            "True\n"
          ]
        }
      ]
    },
    {
      "cell_type": "code",
      "source": [
        "for i in range(1,6):\n",
        "    while i <= 6:\n",
        "        i += 1\n",
        "        print(i)\n",
        "    break"
      ],
      "metadata": {
        "id": "ytTQLadJQp4E",
        "colab": {
          "base_uri": "https://localhost:8080/"
        },
        "outputId": "8ba7076b-2829-42f0-b6ed-eabd0dde77ae"
      },
      "execution_count": 1,
      "outputs": [
        {
          "output_type": "stream",
          "name": "stdout",
          "text": [
            "2\n",
            "3\n",
            "4\n",
            "5\n",
            "6\n",
            "7\n"
          ]
        }
      ]
    }
  ],
  "metadata": {
    "colab": {
      "toc_visible": true,
      "provenance": [],
      "include_colab_link": true
    },
    "kernelspec": {
      "display_name": "Python 3",
      "name": "python3"
    }
  },
  "nbformat": 4,
  "nbformat_minor": 0
}